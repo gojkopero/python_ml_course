{
 "cells": [
  {
   "cell_type": "markdown",
   "id": "43c1a6f3",
   "metadata": {},
   "source": [
    "## Initialize"
   ]
  },
  {
   "cell_type": "code",
   "execution_count": 3,
   "id": "4d94e60d",
   "metadata": {},
   "outputs": [],
   "source": [
    "import numpy as np"
   ]
  },
  {
   "cell_type": "markdown",
   "id": "6a297942",
   "metadata": {},
   "source": [
    "## Create particle class"
   ]
  },
  {
   "cell_type": "code",
   "execution_count": 5,
   "id": "5a6248db",
   "metadata": {},
   "outputs": [],
   "source": [
    "class Particle:\n",
    "    def __init__(self):\n",
    "        self.position = []\n",
    "        self.velocity = []\n",
    "        self.value = []\n",
    "        self.best_position = []\n",
    "        self.best_value = []\n",
    "    "
   ]
  },
  {
   "cell_type": "markdown",
   "id": "5b1b43dc",
   "metadata": {},
   "source": [
    "## Create cost function"
   ]
  },
  {
   "cell_type": "code",
   "execution_count": 16,
   "id": "c7135c38",
   "metadata": {},
   "outputs": [],
   "source": [
    "def sphere(x):\n",
    "    z = np.sum(np.square(x))\n",
    "    return -z"
   ]
  },
  {
   "cell_type": "markdown",
   "id": "b9309f86",
   "metadata": {},
   "source": [
    "## Create population"
   ]
  },
  {
   "cell_type": "code",
   "execution_count": 18,
   "id": "bde7eba4",
   "metadata": {},
   "outputs": [],
   "source": [
    "def create_population(nPop, n_bersagli, W_tot, global_best):\n",
    "    population = [Particle() for i in range(nPop)]\n",
    "    for i in range(nPop):\n",
    "        population[i].position = np.random.uniform(1, n_bersagli, (W_tot)).astype(int)\n",
    "        population[i].velocity = np.zeros(W_tot)\n",
    "        population[i].value = sphere(population[i].position)\n",
    "        \n",
    "        # Update personal\n",
    "        population[i].best_position = population[i].position\n",
    "        population[i].best_value = population[i].value\n",
    "        \n",
    "        # Update global\n",
    "        if population[i].best_value > global_best:\n",
    "            global_best = population[i].best\n",
    "            "
   ]
  },
  {
   "cell_type": "code",
   "execution_count": 19,
   "id": "a75a2b4e",
   "metadata": {},
   "outputs": [],
   "source": [
    "create_population(7, 2, 3, 0)"
   ]
  },
  {
   "cell_type": "code",
   "execution_count": null,
   "id": "58a627fd",
   "metadata": {},
   "outputs": [],
   "source": []
  }
 ],
 "metadata": {
  "kernelspec": {
   "display_name": "Python 3 (Spyder)",
   "language": "python3",
   "name": "python3"
  },
  "language_info": {
   "codemirror_mode": {
    "name": "ipython",
    "version": 3
   },
   "file_extension": ".py",
   "mimetype": "text/x-python",
   "name": "python",
   "nbconvert_exporter": "python",
   "pygments_lexer": "ipython3",
   "version": "3.9.12"
  }
 },
 "nbformat": 4,
 "nbformat_minor": 5
}
