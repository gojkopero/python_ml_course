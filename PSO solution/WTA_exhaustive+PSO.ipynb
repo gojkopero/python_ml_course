{
 "cells": [
  {
   "cell_type": "markdown",
   "metadata": {},
   "source": [
    "# Weapon target assignment\n",
    "\n",
    "Versione WTA con **ricerca esaustiva**\n",
    "\n",
    "---\n",
    "Per commenti, modifiche et al. contattateci via email:\n",
    "- marco.vannucci@santannapisa.it\n",
    "- valentina.colla@santannapisa.it"
   ]
  },
  {
   "cell_type": "markdown",
   "metadata": {},
   "source": [
    "## Importazioni e variabili globali"
   ]
  },
  {
   "cell_type": "code",
   "execution_count": 1,
   "metadata": {},
   "outputs": [],
   "source": [
    "import numpy as np\n",
    "hc=0 ## questa è una variabile globale"
   ]
  },
  {
   "cell_type": "markdown",
   "metadata": {},
   "source": [
    "## Create particle class"
   ]
  },
  {
   "cell_type": "code",
   "execution_count": 2,
   "metadata": {},
   "outputs": [],
   "source": [
    "class Particle:\n",
    "    def __init__(self):\n",
    "        self.position = []\n",
    "        self.velocity = []\n",
    "        self.value = []\n",
    "        self.best_position = []\n",
    "        self.best_value = []\n",
    "    "
   ]
  },
  {
   "cell_type": "markdown",
   "metadata": {},
   "source": [
    "## Funzioni accessorie"
   ]
  },
  {
   "cell_type": "markdown",
   "metadata": {},
   "source": [
    "### Calcolo possibili combinazioni *weapon-target*\n",
    "\n",
    "La funzione `combina` calcola tutte le possibili combinazioni di `N_weapon` armi su `N_target` bersagli e le mette nella matrice `all_mat`, le cui dimensioni sono note e precedentemente calcolate, essendo le combinazioni `N_target^N_weapon`"
   ]
  },
  {
   "cell_type": "code",
   "execution_count": 3,
   "metadata": {},
   "outputs": [],
   "source": [
    "def combina(lista_b, N_weapon, N_target, out_mat, out_pos, all_mat):\n",
    "    global hc\n",
    "    for k in range(N_target):\n",
    "        out_mat[out_pos]=lista_b[k]\n",
    "        if N_weapon>1:\n",
    "            combina(lista_b,N_weapon-1,N_target,out_mat,out_pos+1, all_mat)\n",
    "        else:\n",
    "            #print(out_mat) serve a visualizzare tutte le possibili combinazioni armi-bersaglio\n",
    "            all_mat[hc]=out_mat\n",
    "            hc=hc+1\n",
    "    return"
   ]
  },
  {
   "cell_type": "markdown",
   "metadata": {},
   "source": [
    "### Funzione obiettivo\n",
    "\n",
    "La funzione `valuta_comb` calcola la funzione obiettivo da **minimizzare** per la combinazione armi-bersagli, contenuta nel vettore `combin`, che è il primo argomento.\n",
    "\n",
    "La funzione obiettivo è la somma dei prodotti del valore di ciascun bersaglio moltiplicato per la probabilità  che esso sopravviva alle armi che sono a lui assegnate, che è *1 - la probabilità che l'arma colpisca il bersaglio*. \n",
    "\n",
    "La matrice delle probabilità che ciascun tipo di arma ha di colpire il bersaglio è uno degli argomenti, ossia `Mat_prob`. \n",
    "Fra gli argomenti passo anche il vettore `vett_W` che contiene il tipo di ciascuna delle armi della combinazione.\n",
    "la funzione di compone di due cicli annidati.\n",
    "\n",
    "**I cicli:**\n",
    "- Il ciclo esterno itera sui bersagli e quindi calcola i singoli addendi della funzione obiettivo.\n",
    "- Il ciclo interno itera sulle armi e serve a calcolare la probabailità che ciascun bersaglio sopravvivva all'attacco, che è una produttoria delle probabilità che ha di sopravvivere a ciascuna delle armi. Se un'arma è assegnata proprio a lui, il fattore della produttoria è *(1-p)*, se invece non lo è, il fattore della produttoria è *1* e  quindi, in pratica, non si fa alcuna moltiplicazione.\n"
   ]
  },
  {
   "cell_type": "code",
   "execution_count": 4,
   "metadata": {},
   "outputs": [],
   "source": [
    "def valuta_comb(combin, vett_W, Mat_prob, valori_T):\n",
    "    valore=0\n",
    "    n_T=len(valori_T)\n",
    "    n_W=len(combin)\n",
    "    for i in range(n_T): # il ciclo esterno calcola ogni addendo della funzione obiettivo da minimizzare, relativo a ciascun target\n",
    "        prob_sopravv_target=1;\n",
    "        for j in range(n_W):\n",
    "            if combin[j]==int(i+1): # Il ciclo interno calcola la probabilità  di sopravvivenza di ciascun target \n",
    "                prob_sopravv_target*=(1-Mat_prob[vett_W[j]-1,i])\n",
    "        valore+=valori_T[i]*prob_sopravv_target\n",
    "    return valore"
   ]
  },
  {
   "cell_type": "markdown",
   "metadata": {},
   "source": [
    "## Create population"
   ]
  },
  {
   "cell_type": "code",
   "execution_count": 5,
   "metadata": {},
   "outputs": [],
   "source": [
    "def create_population(nPop, n_bersagli, vett_W, Mat_prob, valori_T):\n",
    "    W_tot = len(vett_W)\n",
    "    population = [Particle() for i in range(nPop)]\n",
    "    global_best = [[], [np.Inf]]\n",
    "    for i in range(nPop):\n",
    "        population[i].position = np.random.uniform(1, n_bersagli+1, (W_tot)).astype(int)\n",
    "        population[i].velocity = np.zeros(W_tot)\n",
    "        population[i].value = valuta_comb(population[i].position, vett_W, Mat_prob, valori_T)\n",
    "        \n",
    "        # Update personal\n",
    "        population[i].best_position = population[i].position\n",
    "        population[i].best_value = population[i].value\n",
    "        \n",
    "        # Update global\n",
    "        if population[i].best_value < global_best[1]:\n",
    "            global_best = [population[i].best_position, population[i].best_value]\n",
    "    \n",
    "    return population, global_best"
   ]
  },
  {
   "cell_type": "markdown",
   "metadata": {},
   "source": [
    "## Update population"
   ]
  },
  {
   "cell_type": "code",
   "execution_count": 6,
   "metadata": {},
   "outputs": [],
   "source": [
    "def update_pop(population, w, c1, c2, min_velocity, max_velocity, n_bersagli, global_best, vett_W, Mat_prob, valori_T):\n",
    "    for i in range(len(population)):\n",
    "        \n",
    "        # Update velocity\n",
    "        population[i].velocity = w*population[i].velocity + c1*np.random.uniform()*(population[i].best_position - population[i].position) + c2*np.random.uniform()*(global_best[0] - population[i].position)\n",
    "                \n",
    "        # Velocity limits\n",
    "        population[i].velocity = np.clip(population[i].velocity, min_velocity, max_velocity)\n",
    "        \n",
    "        # Update position\n",
    "        population[i].position = population[i].position + population[i].velocity\n",
    "        \n",
    "        # Bounds\n",
    "        population[i].position = np.clip(population[i].position, 1, n_bersagli)\n",
    "        \n",
    "        population[i].position = np.rint(population[i].position)\n",
    "        # Evaluate\n",
    "        population[i].value = valuta_comb(population[i].position, vett_W, Mat_prob, valori_T)\n",
    "        \n",
    "        # Update personal best\n",
    "        if population[i].value < population[i].best_value:\n",
    "            population[i].best_position = population[i].position\n",
    "            population[i].best_value = population[i].value\n",
    "            \n",
    "        # Update global best\n",
    "        if population[i].value < global_best[1]:\n",
    "            global_best = [population[i].best_position, population[i].value]\n",
    "            \n",
    "        \n",
    "    return population, global_best"
   ]
  },
  {
   "cell_type": "markdown",
   "metadata": {},
   "source": [
    "## Main\n",
    "\n",
    "Parametri specificati dall'utente:\n",
    "- il numero dei bersagli\n",
    "- il numero di tipi di armi.\n",
    "\n",
    "Parametri settati automaticamente:\n",
    "- il valore dei bersagli è un valore intero casuale tra 0 e 100\n",
    "- la probabilità che un tipo di arma colpisca ciascun bersaglio è anche essa casuale\n",
    "\n",
    "**Codifica soluzione**\n",
    "\n",
    "Ogni combinazione armi-bersagli è codificata come una *stringa di interi* di lunghezza pari al numero totale di armi disponibili, **nell'ordine in cui i tipi vengono forniti**.\n",
    "\n",
    "> **Ad esempio**: se io ho 2 armi di tipo A e 3 armi di tipo B, la combinazione è lunga 5 e così composta [A1, A2, B1, B2, B3]\n",
    "\n",
    "Il contenuto di ciascun elemento è il numero del target a cui l'arma corrispondente è assegnata.\n",
    "Chiaramente, armi dello stesso tipo hanno la medesima probabilità  di colpire ogni bersaglio.\n",
    "La matrice delle probabilità  che ciascun tipo di arma ha di colpire ogni bersaglio si chiama `Mat_prob_cogliere_bersagli` ed ha tante righe quante sono i tipi di armi e tante colonne quante sono i bersagli.\n",
    "\n",
    "> Ho creato anche una lista che ha tante righe quane i tipi di armi, che è una lista mista, che contiene per ogni riga il nome del tipo di arma, il numero di armi di quel tipo e il vettore delle probabilità  che questo tipo di arma colpisca i diversi bersagli.\n",
    "Questa lista non serve assolutamente a niente, l'ho creata per sfizio e come struttura dati che raccoglie tutte le informazioni relative alle ami. "
   ]
  },
  {
   "cell_type": "code",
   "execution_count": 7,
   "metadata": {},
   "outputs": [
    {
     "name": "stdout",
     "output_type": "stream",
     "text": [
      "\n",
      "   Bersaglio     Valore\n",
      "           1         53\n",
      "           2          4\n",
      "           3         82\n",
      "           4         27\n",
      "           5         46\n"
     ]
    }
   ],
   "source": [
    "n_bersagli=int(input('Quanti bersagli ci sono? ') )\n",
    "#lista_bersagli = [1, 2, 3]\n",
    "lista_bersagli=list(range(1,n_bersagli+1))\n",
    "\n",
    "# determino casualmente il valore di ciascun bersaglio\n",
    "Valori_bersagli = np.array(100*np.random.rand(n_bersagli),dtype=int)\n",
    "\n",
    "print('\\n%12s   %8s'%('Bersaglio','Valore'))\n",
    "for i in lista_bersagli:\n",
    "    print('%12d   %8d'%(i,Valori_bersagli[i-1]))"
   ]
  },
  {
   "cell_type": "code",
   "execution_count": 8,
   "metadata": {},
   "outputs": [],
   "source": [
    "# inserimento tipologia e delle armi\n",
    "n_tipo_armi=int(input('Quanti tipi di armi ci sono? ') )\n",
    "\n",
    "# numero di armi per ciascun tipo \n",
    "cont_armi_per_tipo=np.zeros(n_tipo_armi, dtype=int)\n",
    "\n",
    "# matrice con la probabilità, per ciascuna tipologia di arma, di colpire ciascun bersaglio\n",
    "Mat_prob_cogliere_bersagli=np.zeros([n_tipo_armi,n_bersagli])\n",
    "\n",
    "# descrittore del set di armi (include nome, tipo e le probabilità di colpire i bersagli)\n",
    "lista_armi=[] \n",
    "\n",
    "\n",
    "for j in range(n_tipo_armi):\n",
    "    nome = 'WEATYPE_%d'%j\n",
    "    probab_cogliere_bersagli=np.random.rand(n_bersagli)\n",
    "    Mat_prob_cogliere_bersagli[j]=probab_cogliere_bersagli\n",
    "    testo ='Quante armi ci sono del tipo '+ nome + '? '\n",
    "    cont_armi_per_tipo[j]=input(testo)\n",
    "    lista_armi.append([nome, cont_armi_per_tipo[j],probab_cogliere_bersagli])\n",
    "\n",
    "    \n",
    "#for l in lista_armi:\n",
    "#    print(l)"
   ]
  },
  {
   "cell_type": "markdown",
   "metadata": {},
   "source": [
    "### Simulazione delle combinazioni"
   ]
  },
  {
   "cell_type": "code",
   "execution_count": 9,
   "metadata": {},
   "outputs": [
    {
     "name": "stdout",
     "output_type": "stream",
     "text": [
      "Saranno valutate 9765625 combinazioni arma-target\n",
      "s\n"
     ]
    }
   ],
   "source": [
    "W_tot=int(np.sum(cont_armi_per_tipo)) #numero totale delle armi\n",
    "Vec_tipo_armi=np.zeros(W_tot,dtype=int) #vettore con il tipo di ciascuna arma\n",
    "offset=0\n",
    "for i in range(n_tipo_armi):\n",
    "    for j in range(cont_armi_per_tipo[i]):\n",
    "        Vec_tipo_armi[j+offset]=i+1;\n",
    "    offset+=cont_armi_per_tipo[i]\n",
    "    \n",
    "# adesso faccio decidere all'utente se andare avanti con il calcolo in base al numero effettivo delle combinazioni da valutare\n",
    "N_comb=int(n_bersagli**W_tot) #numero totale delle combinazioni armi-bersagli\n",
    "\n",
    "print('Saranno valutate %d combinazioni arma-target'%N_comb)\n",
    "cont=input('Continuare? [s/n]')\n",
    "\n",
    "print(cont)"
   ]
  },
  {
   "cell_type": "code",
   "execution_count": 10,
   "metadata": {},
   "outputs": [
    {
     "name": "stdout",
     "output_type": "stream",
     "text": [
      "la migliore combinazione è  [2 5 5 3 4 1 1 3 1 4]\n",
      "Il valore della funzione obiettivo in  [2 5 5 3 4 1 1 3 1 4]  è  8.346617564688685\n"
     ]
    }
   ],
   "source": [
    "if cont=='s':\n",
    "    Tutte_combin=np.zeros([N_comb, W_tot], dtype=int) #array che contiene tutte le associazioni possibili delle armi ai bersagli\n",
    "    assoc=np.zeros(W_tot)\n",
    "    out_pos=0\n",
    "    combina(lista_bersagli, W_tot, n_bersagli, assoc, out_pos, Tutte_combin)\n",
    "\n",
    "    Valore_combin=np.zeros(N_comb)\n",
    "    for i in range(N_comb):\n",
    "        Valore_combin[i]=valuta_comb(Tutte_combin[i],Vec_tipo_armi,Mat_prob_cogliere_bersagli,Valori_bersagli)\n",
    "    indx_Best=np.argmin(Valore_combin)\n",
    "    Best_combin=Tutte_combin[indx_Best]\n",
    "    Min_obj=min(Valore_combin)\n",
    "    print(\"la migliore combinazione è \", Best_combin)\n",
    "    print(\"Il valore della funzione obiettivo in \", Best_combin, \" è \", Min_obj)"
   ]
  },
  {
   "cell_type": "markdown",
   "metadata": {},
   "source": [
    "## PSO solution"
   ]
  },
  {
   "cell_type": "code",
   "execution_count": 11,
   "metadata": {},
   "outputs": [],
   "source": [
    "## Constriction coefficients\n",
    "kappa = 1\n",
    "phi1 = 2.05\n",
    "phi2 = 2.05\n",
    "phi = phi1 + phi2\n",
    "chi = 2*kappa/abs(2-phi-np.sqrt(phi*phi-4*phi))"
   ]
  },
  {
   "cell_type": "code",
   "execution_count": 12,
   "metadata": {},
   "outputs": [],
   "source": [
    "## Hyperparameters\n",
    "w = chi\n",
    "c1 = chi*phi1\n",
    "c2 = chi*phi2\n",
    "max_velocity = 0.2*(n_bersagli-1)\n",
    "min_velocity = -max_velocity\n",
    "n_iter = 100\n",
    "wdamp = 1\n",
    "nPop = 50"
   ]
  },
  {
   "cell_type": "code",
   "execution_count": 13,
   "metadata": {},
   "outputs": [
    {
     "name": "stdout",
     "output_type": "stream",
     "text": [
      "[array([5, 4, 3, 3, 3, 5, 1, 3, 4, 1]), 14.607243763351969]\n"
     ]
    }
   ],
   "source": [
    "population, global_best = create_population(nPop, n_bersagli, Vec_tipo_armi, Mat_prob_cogliere_bersagli, Valori_bersagli)\n",
    "print(global_best)"
   ]
  },
  {
   "cell_type": "code",
   "execution_count": 14,
   "metadata": {},
   "outputs": [],
   "source": [
    "## Vector of best per iter\n",
    "best_costs = np.zeros((n_iter, 1))"
   ]
  },
  {
   "cell_type": "code",
   "execution_count": 15,
   "metadata": {},
   "outputs": [],
   "source": [
    "for i in range(n_iter):\n",
    "    population, global_best= update_pop(population, w, c1, c2, min_velocity, max_velocity, n_bersagli, global_best, Vec_tipo_armi, Mat_prob_cogliere_bersagli, Valori_bersagli)\n",
    "    best_costs[i, 0] = global_best[1]\n",
    "    w = wdamp*w\n",
    "    "
   ]
  },
  {
   "cell_type": "code",
   "execution_count": 16,
   "metadata": {},
   "outputs": [
    {
     "name": "stdout",
     "output_type": "stream",
     "text": [
      "[array([5., 5., 2., 4., 3., 5., 1., 3., 4., 1.]), 10.5254051984084]\n"
     ]
    }
   ],
   "source": [
    "print(global_best)"
   ]
  },
  {
   "cell_type": "code",
   "execution_count": 17,
   "metadata": {},
   "outputs": [
    {
     "name": "stdout",
     "output_type": "stream",
     "text": [
      "[[11.32921319]\n",
      " [11.32921319]\n",
      " [11.09606606]\n",
      " [11.09606606]\n",
      " [11.09606606]\n",
      " [11.09606606]\n",
      " [11.09606606]\n",
      " [11.09606606]\n",
      " [10.5254052 ]\n",
      " [10.5254052 ]\n",
      " [10.5254052 ]\n",
      " [10.5254052 ]\n",
      " [10.5254052 ]\n",
      " [10.5254052 ]\n",
      " [10.5254052 ]\n",
      " [10.5254052 ]\n",
      " [10.5254052 ]\n",
      " [10.5254052 ]\n",
      " [10.5254052 ]\n",
      " [10.5254052 ]\n",
      " [10.5254052 ]\n",
      " [10.5254052 ]\n",
      " [10.5254052 ]\n",
      " [10.5254052 ]\n",
      " [10.5254052 ]\n",
      " [10.5254052 ]\n",
      " [10.5254052 ]\n",
      " [10.5254052 ]\n",
      " [10.5254052 ]\n",
      " [10.5254052 ]\n",
      " [10.5254052 ]\n",
      " [10.5254052 ]\n",
      " [10.5254052 ]\n",
      " [10.5254052 ]\n",
      " [10.5254052 ]\n",
      " [10.5254052 ]\n",
      " [10.5254052 ]\n",
      " [10.5254052 ]\n",
      " [10.5254052 ]\n",
      " [10.5254052 ]\n",
      " [10.5254052 ]\n",
      " [10.5254052 ]\n",
      " [10.5254052 ]\n",
      " [10.5254052 ]\n",
      " [10.5254052 ]\n",
      " [10.5254052 ]\n",
      " [10.5254052 ]\n",
      " [10.5254052 ]\n",
      " [10.5254052 ]\n",
      " [10.5254052 ]\n",
      " [10.5254052 ]\n",
      " [10.5254052 ]\n",
      " [10.5254052 ]\n",
      " [10.5254052 ]\n",
      " [10.5254052 ]\n",
      " [10.5254052 ]\n",
      " [10.5254052 ]\n",
      " [10.5254052 ]\n",
      " [10.5254052 ]\n",
      " [10.5254052 ]\n",
      " [10.5254052 ]\n",
      " [10.5254052 ]\n",
      " [10.5254052 ]\n",
      " [10.5254052 ]\n",
      " [10.5254052 ]\n",
      " [10.5254052 ]\n",
      " [10.5254052 ]\n",
      " [10.5254052 ]\n",
      " [10.5254052 ]\n",
      " [10.5254052 ]\n",
      " [10.5254052 ]\n",
      " [10.5254052 ]\n",
      " [10.5254052 ]\n",
      " [10.5254052 ]\n",
      " [10.5254052 ]\n",
      " [10.5254052 ]\n",
      " [10.5254052 ]\n",
      " [10.5254052 ]\n",
      " [10.5254052 ]\n",
      " [10.5254052 ]\n",
      " [10.5254052 ]\n",
      " [10.5254052 ]\n",
      " [10.5254052 ]\n",
      " [10.5254052 ]\n",
      " [10.5254052 ]\n",
      " [10.5254052 ]\n",
      " [10.5254052 ]\n",
      " [10.5254052 ]\n",
      " [10.5254052 ]\n",
      " [10.5254052 ]\n",
      " [10.5254052 ]\n",
      " [10.5254052 ]\n",
      " [10.5254052 ]\n",
      " [10.5254052 ]\n",
      " [10.5254052 ]\n",
      " [10.5254052 ]\n",
      " [10.5254052 ]\n",
      " [10.5254052 ]\n",
      " [10.5254052 ]\n",
      " [10.5254052 ]]\n"
     ]
    }
   ],
   "source": [
    "print(best_costs)"
   ]
  },
  {
   "cell_type": "markdown",
   "metadata": {},
   "source": [
    "## Hyperparameter tuning using Bayesian Optimization"
   ]
  },
  {
   "cell_type": "code",
   "execution_count": 68,
   "metadata": {},
   "outputs": [],
   "source": [
    "import torch\n",
    "\n",
    "device = torch.device(\"cuda\" if torch.cuda.is_available() else \"cpu\")\n",
    "dtype = torch.double\n",
    "SMOKE_TEST = os.environ.get(\"SMOKE_TEST\")"
   ]
  },
  {
   "cell_type": "code",
   "execution_count": 69,
   "metadata": {},
   "outputs": [],
   "source": [
    "from botorch.models import FixedNoiseGP\n",
    "from botorch.fit import fit_gpytorch_model\n",
    "from gpytorch.mlls import ExactMarginalLogLikelihood\n",
    "\n",
    "bounds = np.array(([0, 0, 0, 0, 0.5, 50], [1, 10, 10, 5, 1, 1000]), dtype=float)\n",
    "train_X = np.array([w, c1, c2, max_velocity, wdamp, nPop])\n",
    "for i in range(9):\n",
    "    train_X = np.vstack((train_X, np.random.uniform(0,1, (1, 6))*(bounds[1,:] - bounds[0, :])+bounds[0,:]))\n"
   ]
  },
  {
   "cell_type": "code",
   "execution_count": 70,
   "metadata": {},
   "outputs": [],
   "source": [
    "train_Y = np.zeros((10,1))\n",
    "for i in range(len(train_X)):\n",
    "    pop, glob = create_population(train_X[i, 5].astype(int), n_bersagli, Vec_tipo_armi, Mat_prob_cogliere_bersagli, Valori_bersagli)\n",
    "    for j in range(n_iter):\n",
    "        pop, glob= update_pop(pop, train_X[i, 0], train_X[i, 1], train_X[i, 2], -train_X[i, 3], train_X[i, 3], n_bersagli, glob, Vec_tipo_armi, Mat_prob_cogliere_bersagli, Valori_bersagli)\n",
    "        w = w * train_X[i, 4]\n",
    "    train_Y[i] = glob[1]"
   ]
  },
  {
   "cell_type": "code",
   "execution_count": 72,
   "metadata": {},
   "outputs": [
    {
     "name": "stdout",
     "output_type": "stream",
     "text": [
      "[[13.13405093]\n",
      " [16.18518796]\n",
      " [ 8.83464015]\n",
      " [ 8.51619464]\n",
      " [ 8.34661756]\n",
      " [ 8.34661756]\n",
      " [ 9.66558846]\n",
      " [ 8.51619464]\n",
      " [ 8.51619464]\n",
      " [12.80386259]]\n"
     ]
    }
   ],
   "source": [
    "print(train_Y)"
   ]
  },
  {
   "cell_type": "code",
   "execution_count": 73,
   "metadata": {},
   "outputs": [],
   "source": [
    "# Transfer to tensors\n",
    "train_X = torch.from_numpy(train_X)\n",
    "train_Y = torch.from_numpy(train_Y)\n",
    "bounds = torch.from_numpy(bounds)"
   ]
  },
  {
   "cell_type": "code",
   "execution_count": 74,
   "metadata": {},
   "outputs": [
    {
     "data": {
      "text/plain": [
       "ExactMarginalLogLikelihood(\n",
       "  (likelihood): FixedNoiseGaussianLikelihood(\n",
       "    (noise_covar): FixedGaussianNoise()\n",
       "  )\n",
       "  (model): FixedNoiseGP(\n",
       "    (likelihood): FixedNoiseGaussianLikelihood(\n",
       "      (noise_covar): FixedGaussianNoise()\n",
       "    )\n",
       "    (mean_module): ConstantMean()\n",
       "    (covar_module): ScaleKernel(\n",
       "      (base_kernel): MaternKernel(\n",
       "        (lengthscale_prior): GammaPrior()\n",
       "        (raw_lengthscale_constraint): Positive()\n",
       "        (distance_module): Distance()\n",
       "      )\n",
       "      (outputscale_prior): GammaPrior()\n",
       "      (raw_outputscale_constraint): Positive()\n",
       "    )\n",
       "  )\n",
       ")"
      ]
     },
     "execution_count": 74,
     "metadata": {},
     "output_type": "execute_result"
    }
   ],
   "source": [
    "# Fit the noisy model\n",
    "NOISE_SE = 0.2\n",
    "train_Yvar = torch.tensor(NOISE_SE**2, device=device, dtype=dtype)\n",
    "gp = FixedNoiseGP(train_X, train_Y, train_Yvar.expand_as(train_Y))\n",
    "mll = ExactMarginalLogLikelihood(gp.likelihood, gp)\n",
    "fit_gpytorch_model(mll)"
   ]
  },
  {
   "cell_type": "code",
   "execution_count": 77,
   "metadata": {},
   "outputs": [],
   "source": [
    "# Acquisition function and optimization\n",
    "from botorch.acquisition import NoisyExpectedImprovement\n",
    "from botorch.optim import optimize_acqf\n",
    "\n",
    "\n",
    "for i in range(30):\n",
    "    nEI = NoisyExpectedImprovement(gp, train_X)\n",
    "    candidate_t, acq_value = optimize_acqf(\n",
    "    nEI, bounds=bounds, q=1, num_restarts=5, raw_samples=20,\n",
    ")\n",
    "    candidate_t = candidate_t.detach()\n",
    "    train_X = torch.vstack((train_X, candidate_t))\n",
    "    candidate = candidate_t.numpy()\n",
    "    pop, glob = create_population(candidate[0][5].astype(int), n_bersagli, Vec_tipo_armi, Mat_prob_cogliere_bersagli, Valori_bersagli)\n",
    "    for j in range(n_iter):\n",
    "        pop, glob= update_pop(pop, candidate[0][0], candidate[0][1], candidate[0][2], -candidate[0][3], candidate[0][3], n_bersagli, glob, Vec_tipo_armi, Mat_prob_cogliere_bersagli, Valori_bersagli)\n",
    "        w = w * candidate[0][4]\n",
    "    train_Y = torch.vstack((train_Y, torch.tensor(glob[1])))\n",
    "\n",
    "    # re-fit the model\n",
    "    gp = FixedNoiseGP(train_X, train_Y, train_Yvar.expand_as(train_Y))\n",
    "    mll = ExactMarginalLogLikelihood(gp.likelihood, gp)\n",
    "    fit_gpytorch_model(mll)"
   ]
  },
  {
   "cell_type": "code",
   "execution_count": 78,
   "metadata": {},
   "outputs": [
    {
     "name": "stdout",
     "output_type": "stream",
     "text": [
      "tensor([[13.1341],\n",
      "        [16.1852],\n",
      "        [ 8.8346],\n",
      "        [ 8.5162],\n",
      "        [ 8.3466],\n",
      "        [ 8.3466],\n",
      "        [ 9.6656],\n",
      "        [ 8.5162],\n",
      "        [ 8.5162],\n",
      "        [12.8039],\n",
      "        [ 8.5162],\n",
      "        [ 8.5162],\n",
      "        [ 8.5162],\n",
      "        [11.2639],\n",
      "        [ 8.5162],\n",
      "        [ 8.5162],\n",
      "        [ 9.4377],\n",
      "        [13.4271],\n",
      "        [ 8.3466],\n",
      "        [22.1873],\n",
      "        [ 8.6898],\n",
      "        [ 9.0641],\n",
      "        [ 9.3036],\n",
      "        [ 8.8970],\n",
      "        [ 8.5162],\n",
      "        [ 8.3466],\n",
      "        [ 8.5162],\n",
      "        [11.1580],\n",
      "        [12.2519],\n",
      "        [ 8.6898],\n",
      "        [ 8.3466],\n",
      "        [ 8.3466],\n",
      "        [ 8.3466],\n",
      "        [ 8.3466],\n",
      "        [12.5407],\n",
      "        [11.7083],\n",
      "        [ 8.5162],\n",
      "        [12.7164],\n",
      "        [ 8.5162],\n",
      "        [ 8.5162],\n",
      "        [ 8.3466]], dtype=torch.float64)\n"
     ]
    }
   ],
   "source": [
    "# Training seems to go on in BO manner\n",
    "print(train_Y)"
   ]
  },
  {
   "cell_type": "code",
   "execution_count": 79,
   "metadata": {},
   "outputs": [
    {
     "name": "stdout",
     "output_type": "stream",
     "text": [
      "[[ 32.          33.           4.           5.          25.\n",
      "   18.          30.          40.          31.        ]\n",
      " [445.43473315 459.4606603  676.7616871  703.10703965 753.69915068\n",
      "  879.28522401 950.65542189 956.18541422 960.81941724]]\n"
     ]
    }
   ],
   "source": [
    "# Let's find an optimal candidate with least nPop\n",
    "train_Y_np = train_Y.detach().numpy()\n",
    "optimals_idx = np.array([i for i in range(len(train_Y)) if np.isclose(train_Y_np[i], train_Y_np.min())])\n",
    "train_X_np = train_X.detach().numpy()\n",
    "values = np.array([train_X_np[i, 5] for i in optimals_idx])\n",
    "matrix = np.vstack((optimals_idx, values))\n",
    "matrix = matrix[:, matrix[1].argsort()]\n",
    "print(matrix)"
   ]
  },
  {
   "cell_type": "code",
   "execution_count": 84,
   "metadata": {},
   "outputs": [
    {
     "name": "stdout",
     "output_type": "stream",
     "text": [
      "[  0.89117118   6.5218407    9.13396932   1.97656681   0.74786783\n",
      " 445.43473315]\n"
     ]
    }
   ],
   "source": [
    "final_params = train_X_np[32]\n",
    "print(final_params)"
   ]
  },
  {
   "cell_type": "markdown",
   "metadata": {},
   "source": [
    "## Final loop with tuned params"
   ]
  },
  {
   "cell_type": "code",
   "execution_count": 83,
   "metadata": {},
   "outputs": [
    {
     "name": "stdout",
     "output_type": "stream",
     "text": [
      "19.89022799294612\n",
      "17.125129218486798\n",
      "13.565006107037082\n",
      "13.565006107037082\n",
      "11.40483812962702\n",
      "9.064053950995966\n",
      "9.064053950995966\n",
      "9.064053950995966\n",
      "9.064053950995966\n",
      "9.064053950995966\n",
      "9.064053950995966\n",
      "9.064053950995966\n",
      "9.064053950995966\n",
      "8.834640147389699\n",
      "8.834640147389699\n",
      "8.834640147389699\n",
      "8.834640147389699\n",
      "8.834640147389699\n",
      "8.834640147389699\n",
      "8.834640147389699\n",
      "8.834640147389699\n",
      "8.834640147389699\n",
      "8.834640147389699\n",
      "8.834640147389699\n",
      "8.834640147389699\n",
      "8.834640147389699\n",
      "8.834640147389699\n",
      "8.834640147389699\n",
      "8.834640147389699\n",
      "8.834640147389699\n",
      "8.834640147389699\n",
      "8.834640147389699\n",
      "8.834640147389699\n",
      "8.834640147389699\n",
      "8.834640147389699\n",
      "8.834640147389699\n",
      "8.834640147389699\n",
      "8.834640147389699\n",
      "8.834640147389699\n",
      "8.834640147389699\n",
      "8.834640147389699\n",
      "8.834640147389699\n",
      "8.834640147389699\n",
      "8.834640147389699\n",
      "8.834640147389699\n",
      "8.834640147389699\n",
      "8.834640147389699\n",
      "8.834640147389699\n",
      "8.346617564688685\n",
      "8.346617564688685\n",
      "8.346617564688685\n",
      "8.346617564688685\n",
      "8.346617564688685\n",
      "8.346617564688685\n",
      "8.346617564688685\n",
      "8.346617564688685\n",
      "8.346617564688685\n",
      "8.346617564688685\n",
      "8.346617564688685\n",
      "8.346617564688685\n",
      "8.346617564688685\n",
      "8.346617564688685\n",
      "8.346617564688685\n",
      "8.346617564688685\n",
      "8.346617564688685\n",
      "8.346617564688685\n",
      "8.346617564688685\n",
      "8.346617564688685\n",
      "8.346617564688685\n",
      "8.346617564688685\n",
      "8.346617564688685\n",
      "8.346617564688685\n",
      "8.346617564688685\n",
      "8.346617564688685\n",
      "8.346617564688685\n",
      "8.346617564688685\n",
      "8.346617564688685\n",
      "8.346617564688685\n",
      "8.346617564688685\n",
      "8.346617564688685\n",
      "8.346617564688685\n",
      "8.346617564688685\n",
      "8.346617564688685\n",
      "8.346617564688685\n",
      "8.346617564688685\n",
      "8.346617564688685\n",
      "8.346617564688685\n",
      "8.346617564688685\n",
      "8.346617564688685\n",
      "8.346617564688685\n",
      "8.346617564688685\n",
      "8.346617564688685\n",
      "8.346617564688685\n",
      "8.346617564688685\n",
      "8.346617564688685\n",
      "8.346617564688685\n",
      "8.346617564688685\n",
      "8.346617564688685\n",
      "8.346617564688685\n",
      "8.346617564688685\n",
      "8.346617564688685\n"
     ]
    }
   ],
   "source": [
    "# It can still fail sometimes, but increasing the population siza should fix the problem\n",
    "population_final, global_best_final = create_population(int(final_params[5]), n_bersagli, Vec_tipo_armi, Mat_prob_cogliere_bersagli, Valori_bersagli)\n",
    "best_costs_final = np.zeros((n_iter, 1))\n",
    "print(global_best_final[1])\n",
    "for j in range(n_iter):\n",
    "        population_final, global_best_final= update_pop(population_final, final_params[0], final_params[1], final_params[2], -final_params[3], final_params[3], n_bersagli, global_best_final, Vec_tipo_armi, Mat_prob_cogliere_bersagli, Valori_bersagli)\n",
    "        best_costs_final[j, 0] = global_best_final[1]\n",
    "        print(global_best_final[1])\n",
    "        w = w * final_params[4]"
   ]
  }
 ],
 "metadata": {
  "kernelspec": {
   "display_name": "Python 3 (ipykernel)",
   "language": "python",
   "name": "python3"
  },
  "language_info": {
   "codemirror_mode": {
    "name": "ipython",
    "version": 3
   },
   "file_extension": ".py",
   "mimetype": "text/x-python",
   "name": "python",
   "nbconvert_exporter": "python",
   "pygments_lexer": "ipython3",
   "version": "3.8.10"
  }
 },
 "nbformat": 4,
 "nbformat_minor": 4
}
