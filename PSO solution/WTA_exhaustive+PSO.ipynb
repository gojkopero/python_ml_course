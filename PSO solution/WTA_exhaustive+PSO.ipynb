{
 "cells": [
  {
   "cell_type": "markdown",
   "metadata": {},
   "source": [
    "# Weapon target assignment\n",
    "\n",
    "Versione WTA con **ricerca esaustiva**\n",
    "\n",
    "---\n",
    "Per commenti, modifiche et al. contattateci via email:\n",
    "- marco.vannucci@santannapisa.it\n",
    "- valentina.colla@santannapisa.it"
   ]
  },
  {
   "cell_type": "markdown",
   "metadata": {},
   "source": [
    "## Importazioni e variabili globali"
   ]
  },
  {
   "cell_type": "code",
   "execution_count": 1,
   "metadata": {},
   "outputs": [],
   "source": [
    "import numpy as np\n",
    "hc=0 ## questa è una variabile globale"
   ]
  },
  {
   "cell_type": "markdown",
   "metadata": {},
   "source": [
    "## Create particle class"
   ]
  },
  {
   "cell_type": "code",
   "execution_count": 2,
   "metadata": {},
   "outputs": [],
   "source": [
    "class Particle:\n",
    "    def __init__(self):\n",
    "        self.position = []\n",
    "        self.velocity = []\n",
    "        self.value = []\n",
    "        self.best_position = []\n",
    "        self.best_value = []\n",
    "    "
   ]
  },
  {
   "cell_type": "markdown",
   "metadata": {},
   "source": [
    "## Funzioni accessorie"
   ]
  },
  {
   "cell_type": "markdown",
   "metadata": {},
   "source": [
    "### Calcolo possibili combinazioni *weapon-target*\n",
    "\n",
    "La funzione `combina` calcola tutte le possibili combinazioni di `N_weapon` armi su `N_target` bersagli e le mette nella matrice `all_mat`, le cui dimensioni sono note e precedentemente calcolate, essendo le combinazioni `N_target^N_weapon`"
   ]
  },
  {
   "cell_type": "code",
   "execution_count": 3,
   "metadata": {},
   "outputs": [],
   "source": [
    "def combina(lista_b, N_weapon, N_target, out_mat, out_pos, all_mat):\n",
    "    global hc\n",
    "    for k in range(N_target):\n",
    "        out_mat[out_pos]=lista_b[k]\n",
    "        if N_weapon>1:\n",
    "            combina(lista_b,N_weapon-1,N_target,out_mat,out_pos+1, all_mat)\n",
    "        else:\n",
    "            #print(out_mat) serve a visualizzare tutte le possibili combinazioni armi-bersaglio\n",
    "            all_mat[hc]=out_mat\n",
    "            hc=hc+1\n",
    "    return"
   ]
  },
  {
   "cell_type": "markdown",
   "metadata": {},
   "source": [
    "### Funzione obiettivo\n",
    "\n",
    "La funzione `valuta_comb` calcola la funzione obiettivo da **minimizzare** per la combinazione armi-bersagli, contenuta nel vettore `combin`, che è il primo argomento.\n",
    "\n",
    "La funzione obiettivo è la somma dei prodotti del valore di ciascun bersaglio moltiplicato per la probabilità  che esso sopravviva alle armi che sono a lui assegnate, che è *1 - la probabilità che l'arma colpisca il bersaglio*. \n",
    "\n",
    "La matrice delle probabilità che ciascun tipo di arma ha di colpire il bersaglio è uno degli argomenti, ossia `Mat_prob`. \n",
    "Fra gli argomenti passo anche il vettore `vett_W` che contiene il tipo di ciascuna delle armi della combinazione.\n",
    "la funzione di compone di due cicli annidati.\n",
    "\n",
    "**I cicli:**\n",
    "- Il ciclo esterno itera sui bersagli e quindi calcola i singoli addendi della funzione obiettivo.\n",
    "- Il ciclo interno itera sulle armi e serve a calcolare la probabailità che ciascun bersaglio sopravvivva all'attacco, che è una produttoria delle probabilità che ha di sopravvivere a ciascuna delle armi. Se un'arma è assegnata proprio a lui, il fattore della produttoria è *(1-p)*, se invece non lo è, il fattore della produttoria è *1* e  quindi, in pratica, non si fa alcuna moltiplicazione.\n"
   ]
  },
  {
   "cell_type": "code",
   "execution_count": 4,
   "metadata": {},
   "outputs": [],
   "source": [
    "def valuta_comb(combin, vett_W, Mat_prob, valori_T):\n",
    "    valore=0\n",
    "    n_T=len(valori_T)\n",
    "    n_W=len(combin)\n",
    "    for i in range(n_T): # il ciclo esterno calcola ogni addendo della funzione obiettivo da minimizzare, relativo a ciascun target\n",
    "        prob_sopravv_target=1;\n",
    "        for j in range(n_W):\n",
    "            if combin[j]==int(i+1): # Il ciclo interno calcola la probabilità  di sopravvivenza di ciascun target \n",
    "                prob_sopravv_target*=(1-Mat_prob[vett_W[j]-1,i])\n",
    "        valore+=valori_T[i]*prob_sopravv_target\n",
    "    return valore"
   ]
  },
  {
   "cell_type": "markdown",
   "metadata": {},
   "source": [
    "## Create population"
   ]
  },
  {
   "cell_type": "code",
   "execution_count": 5,
   "metadata": {},
   "outputs": [],
   "source": [
    "def create_population(nPop, n_bersagli, vett_W, Mat_prob, valori_T):\n",
    "    W_tot = len(vett_W)\n",
    "    population = [Particle() for i in range(nPop)]\n",
    "    global_best = [[], [np.Inf]]\n",
    "    for i in range(nPop):\n",
    "        population[i].position = np.random.uniform(1, n_bersagli+1, (W_tot)).astype(int)\n",
    "        population[i].velocity = np.zeros(W_tot)\n",
    "        population[i].value = valuta_comb(population[i].position, vett_W, Mat_prob, valori_T)\n",
    "        \n",
    "        # Update personal\n",
    "        population[i].best_position = population[i].position\n",
    "        population[i].best_value = population[i].value\n",
    "        \n",
    "        # Update global\n",
    "        if population[i].best_value < global_best[1]:\n",
    "            global_best = [population[i].best_position, population[i].best_value]\n",
    "    \n",
    "    return population, global_best"
   ]
  },
  {
   "cell_type": "markdown",
   "metadata": {},
   "source": [
    "## Update population"
   ]
  },
  {
   "cell_type": "code",
   "execution_count": 6,
   "metadata": {},
   "outputs": [],
   "source": [
    "def update_pop(population, w, c1, c2, min_velocity, max_velocity, n_bersagli, global_best, vett_W, Mat_prob, valori_T):\n",
    "    for i in range(len(population)):\n",
    "        \n",
    "        # Update velocity\n",
    "        population[i].velocity = w*population[i].velocity + c1*np.random.uniform()*(population[i].best_position - population[i].position) + c2*np.random.uniform()*(global_best[0] - population[i].position)\n",
    "                \n",
    "        # Velocity limits\n",
    "        population[i].velocity = np.clip(population[i].velocity, min_velocity, max_velocity)\n",
    "        \n",
    "        # Update position\n",
    "        population[i].position = population[i].position + population[i].velocity\n",
    "        \n",
    "        # Bounds\n",
    "        population[i].position = np.clip(population[i].position, 1, n_bersagli)\n",
    "        \n",
    "        population[i].position = np.rint(population[i].position)\n",
    "        # Evaluate\n",
    "        population[i].value = valuta_comb(population[i].position, vett_W, Mat_prob, valori_T)\n",
    "        \n",
    "        # Update personal best\n",
    "        if population[i].value < population[i].best_value:\n",
    "            population[i].best_position = population[i].position\n",
    "            population[i].best_value = population[i].value\n",
    "            \n",
    "        # Update global best\n",
    "        if population[i].value < global_best[1]:\n",
    "            global_best = [population[i].best_position, population[i].value]\n",
    "            \n",
    "        \n",
    "    return population, global_best"
   ]
  },
  {
   "cell_type": "markdown",
   "metadata": {},
   "source": [
    "## Main\n",
    "\n",
    "Parametri specificati dall'utente:\n",
    "- il numero dei bersagli\n",
    "- il numero di tipi di armi.\n",
    "\n",
    "Parametri settati automaticamente:\n",
    "- il valore dei bersagli è un valore intero casuale tra 0 e 100\n",
    "- la probabilità che un tipo di arma colpisca ciascun bersaglio è anche essa casuale\n",
    "\n",
    "**Codifica soluzione**\n",
    "\n",
    "Ogni combinazione armi-bersagli è codificata come una *stringa di interi* di lunghezza pari al numero totale di armi disponibili, **nell'ordine in cui i tipi vengono forniti**.\n",
    "\n",
    "> **Ad esempio**: se io ho 2 armi di tipo A e 3 armi di tipo B, la combinazione è lunga 5 e così composta [A1, A2, B1, B2, B3]\n",
    "\n",
    "Il contenuto di ciascun elemento è il numero del target a cui l'arma corrispondente è assegnata.\n",
    "Chiaramente, armi dello stesso tipo hanno la medesima probabilità  di colpire ogni bersaglio.\n",
    "La matrice delle probabilità  che ciascun tipo di arma ha di colpire ogni bersaglio si chiama `Mat_prob_cogliere_bersagli` ed ha tante righe quante sono i tipi di armi e tante colonne quante sono i bersagli.\n",
    "\n",
    "> Ho creato anche una lista che ha tante righe quane i tipi di armi, che è una lista mista, che contiene per ogni riga il nome del tipo di arma, il numero di armi di quel tipo e il vettore delle probabilità  che questo tipo di arma colpisca i diversi bersagli.\n",
    "Questa lista non serve assolutamente a niente, l'ho creata per sfizio e come struttura dati che raccoglie tutte le informazioni relative alle ami. "
   ]
  },
  {
   "cell_type": "code",
   "execution_count": 8,
   "metadata": {},
   "outputs": [
    {
     "name": "stdout",
     "output_type": "stream",
     "text": [
      "\n",
      "   Bersaglio     Valore\n",
      "           1         60\n",
      "           2         14\n",
      "           3         26\n",
      "           4         25\n",
      "           5         14\n"
     ]
    }
   ],
   "source": [
    "n_bersagli=int(input('Quanti bersagli ci sono? ') )\n",
    "#lista_bersagli = [1, 2, 3]\n",
    "lista_bersagli=list(range(1,n_bersagli+1))\n",
    "\n",
    "# determino casualmente il valore di ciascun bersaglio\n",
    "Valori_bersagli = np.array(100*np.random.rand(n_bersagli),dtype=int)\n",
    "\n",
    "print('\\n%12s   %8s'%('Bersaglio','Valore'))\n",
    "for i in lista_bersagli:\n",
    "    print('%12d   %8d'%(i,Valori_bersagli[i-1]))"
   ]
  },
  {
   "cell_type": "code",
   "execution_count": 9,
   "metadata": {},
   "outputs": [],
   "source": [
    "# inserimento tipologia e delle armi\n",
    "n_tipo_armi=int(input('Quanti tipi di armi ci sono? ') )\n",
    "\n",
    "# numero di armi per ciascun tipo \n",
    "cont_armi_per_tipo=np.zeros(n_tipo_armi, dtype=int)\n",
    "\n",
    "# matrice con la probabilità, per ciascuna tipologia di arma, di colpire ciascun bersaglio\n",
    "Mat_prob_cogliere_bersagli=np.zeros([n_tipo_armi,n_bersagli])\n",
    "\n",
    "# descrittore del set di armi (include nome, tipo e le probabilità di colpire i bersagli)\n",
    "lista_armi=[] \n",
    "\n",
    "\n",
    "for j in range(n_tipo_armi):\n",
    "    nome = 'WEATYPE_%d'%j\n",
    "    probab_cogliere_bersagli=np.random.rand(n_bersagli)\n",
    "    Mat_prob_cogliere_bersagli[j]=probab_cogliere_bersagli\n",
    "    testo ='Quante armi ci sono del tipo '+ nome + '? '\n",
    "    cont_armi_per_tipo[j]=input(testo)\n",
    "    lista_armi.append([nome, cont_armi_per_tipo[j],probab_cogliere_bersagli])\n",
    "\n",
    "    \n",
    "#for l in lista_armi:\n",
    "#    print(l)"
   ]
  },
  {
   "cell_type": "markdown",
   "metadata": {},
   "source": [
    "### Simulazione delle combinazioni"
   ]
  },
  {
   "cell_type": "code",
   "execution_count": 10,
   "metadata": {},
   "outputs": [
    {
     "name": "stdout",
     "output_type": "stream",
     "text": [
      "Saranno valutate 9765625 combinazioni arma-target\n",
      "s\n"
     ]
    }
   ],
   "source": [
    "W_tot=int(np.sum(cont_armi_per_tipo)) #numero totale delle armi\n",
    "Vec_tipo_armi=np.zeros(W_tot,dtype=int) #vettore con il tipo di ciascuna arma\n",
    "offset=0\n",
    "for i in range(n_tipo_armi):\n",
    "    for j in range(cont_armi_per_tipo[i]):\n",
    "        Vec_tipo_armi[j+offset]=i+1;\n",
    "    offset+=cont_armi_per_tipo[i]\n",
    "    \n",
    "# adesso faccio decidere all'utente se andare avanti con il calcolo in base al numero effettivo delle combinazioni da valutare\n",
    "N_comb=int(n_bersagli**W_tot) #numero totale delle combinazioni armi-bersagli\n",
    "\n",
    "print('Saranno valutate %d combinazioni arma-target'%N_comb)\n",
    "cont=input('Continuare? [s/n]')\n",
    "\n",
    "print(cont)"
   ]
  },
  {
   "cell_type": "code",
   "execution_count": 11,
   "metadata": {},
   "outputs": [
    {
     "name": "stdout",
     "output_type": "stream",
     "text": [
      "la migliore combinazione è  [1 2 4 5 5 3 3 1 1 1]\n",
      "Il valore della funzione obiettivo in  [1 2 4 5 5 3 3 1 1 1]  è  10.345240447003052\n"
     ]
    }
   ],
   "source": [
    "if cont=='s':\n",
    "    Tutte_combin=np.zeros([N_comb, W_tot], dtype=int) #array che contiene tutte le associazioni possibili delle armi ai bersagli\n",
    "    assoc=np.zeros(W_tot)\n",
    "    out_pos=0\n",
    "    combina(lista_bersagli, W_tot, n_bersagli, assoc, out_pos, Tutte_combin)\n",
    "\n",
    "    Valore_combin=np.zeros(N_comb)\n",
    "    for i in range(N_comb):\n",
    "        Valore_combin[i]=valuta_comb(Tutte_combin[i],Vec_tipo_armi,Mat_prob_cogliere_bersagli,Valori_bersagli)\n",
    "    indx_Best=np.argmin(Valore_combin)\n",
    "    Best_combin=Tutte_combin[indx_Best]\n",
    "    Min_obj=min(Valore_combin)\n",
    "    print(\"la migliore combinazione è \", Best_combin)\n",
    "    print(\"Il valore della funzione obiettivo in \", Best_combin, \" è \", Min_obj)"
   ]
  },
  {
   "cell_type": "markdown",
   "metadata": {},
   "source": [
    "## PSO solution"
   ]
  },
  {
   "cell_type": "code",
   "execution_count": 12,
   "metadata": {},
   "outputs": [],
   "source": [
    "## Constriction coefficients\n",
    "kappa = 1\n",
    "phi1 = 2.05\n",
    "phi2 = 2.05\n",
    "phi = phi1 + phi2\n",
    "chi = 2*kappa/abs(2-phi-np.sqrt(phi*phi-4*phi))"
   ]
  },
  {
   "cell_type": "code",
   "execution_count": 13,
   "metadata": {},
   "outputs": [],
   "source": [
    "## Hyperparameters\n",
    "w = chi\n",
    "c1 = chi*phi1\n",
    "c2 = chi*phi2\n",
    "max_velocity = 0.2*(n_bersagli-1)\n",
    "min_velocity = -max_velocity\n",
    "n_iter = 100\n",
    "wdamp = 1\n",
    "nPop = 50"
   ]
  },
  {
   "cell_type": "code",
   "execution_count": 14,
   "metadata": {},
   "outputs": [
    {
     "name": "stdout",
     "output_type": "stream",
     "text": [
      "[array([1, 4, 3, 5, 3, 1, 3, 1, 1, 5]), 28.81062412355126]\n"
     ]
    }
   ],
   "source": [
    "population, global_best = create_population(nPop, n_bersagli, Vec_tipo_armi, Mat_prob_cogliere_bersagli, Valori_bersagli)\n",
    "print(global_best)"
   ]
  },
  {
   "cell_type": "code",
   "execution_count": 15,
   "metadata": {},
   "outputs": [],
   "source": [
    "## Vector of best per iter\n",
    "best_costs = np.zeros((n_iter, 1))"
   ]
  },
  {
   "cell_type": "code",
   "execution_count": 16,
   "metadata": {},
   "outputs": [],
   "source": [
    "for i in range(n_iter):\n",
    "    population, global_best= update_pop(population, w, c1, c2, min_velocity, max_velocity, n_bersagli, global_best, Vec_tipo_armi, Mat_prob_cogliere_bersagli, Valori_bersagli)\n",
    "    best_costs[i, 0] = global_best[1]\n",
    "    w = wdamp*w\n",
    "    "
   ]
  },
  {
   "cell_type": "code",
   "execution_count": 17,
   "metadata": {},
   "outputs": [
    {
     "name": "stdout",
     "output_type": "stream",
     "text": [
      "[array([1., 2., 4., 5., 2., 1., 3., 1., 1., 4.]), 13.482589996157436]\n"
     ]
    }
   ],
   "source": [
    "print(global_best)"
   ]
  },
  {
   "cell_type": "code",
   "execution_count": 18,
   "metadata": {},
   "outputs": [
    {
     "name": "stdout",
     "output_type": "stream",
     "text": [
      "[[25.07605014]\n",
      " [23.05064149]\n",
      " [22.02959569]\n",
      " [17.85278835]\n",
      " [17.18431038]\n",
      " [17.18431038]\n",
      " [15.71067013]\n",
      " [15.71067013]\n",
      " [14.02580333]\n",
      " [13.48259   ]\n",
      " [13.48259   ]\n",
      " [13.48259   ]\n",
      " [13.48259   ]\n",
      " [13.48259   ]\n",
      " [13.48259   ]\n",
      " [13.48259   ]\n",
      " [13.48259   ]\n",
      " [13.48259   ]\n",
      " [13.48259   ]\n",
      " [13.48259   ]\n",
      " [13.48259   ]\n",
      " [13.48259   ]\n",
      " [13.48259   ]\n",
      " [13.48259   ]\n",
      " [13.48259   ]\n",
      " [13.48259   ]\n",
      " [13.48259   ]\n",
      " [13.48259   ]\n",
      " [13.48259   ]\n",
      " [13.48259   ]\n",
      " [13.48259   ]\n",
      " [13.48259   ]\n",
      " [13.48259   ]\n",
      " [13.48259   ]\n",
      " [13.48259   ]\n",
      " [13.48259   ]\n",
      " [13.48259   ]\n",
      " [13.48259   ]\n",
      " [13.48259   ]\n",
      " [13.48259   ]\n",
      " [13.48259   ]\n",
      " [13.48259   ]\n",
      " [13.48259   ]\n",
      " [13.48259   ]\n",
      " [13.48259   ]\n",
      " [13.48259   ]\n",
      " [13.48259   ]\n",
      " [13.48259   ]\n",
      " [13.48259   ]\n",
      " [13.48259   ]\n",
      " [13.48259   ]\n",
      " [13.48259   ]\n",
      " [13.48259   ]\n",
      " [13.48259   ]\n",
      " [13.48259   ]\n",
      " [13.48259   ]\n",
      " [13.48259   ]\n",
      " [13.48259   ]\n",
      " [13.48259   ]\n",
      " [13.48259   ]\n",
      " [13.48259   ]\n",
      " [13.48259   ]\n",
      " [13.48259   ]\n",
      " [13.48259   ]\n",
      " [13.48259   ]\n",
      " [13.48259   ]\n",
      " [13.48259   ]\n",
      " [13.48259   ]\n",
      " [13.48259   ]\n",
      " [13.48259   ]\n",
      " [13.48259   ]\n",
      " [13.48259   ]\n",
      " [13.48259   ]\n",
      " [13.48259   ]\n",
      " [13.48259   ]\n",
      " [13.48259   ]\n",
      " [13.48259   ]\n",
      " [13.48259   ]\n",
      " [13.48259   ]\n",
      " [13.48259   ]\n",
      " [13.48259   ]\n",
      " [13.48259   ]\n",
      " [13.48259   ]\n",
      " [13.48259   ]\n",
      " [13.48259   ]\n",
      " [13.48259   ]\n",
      " [13.48259   ]\n",
      " [13.48259   ]\n",
      " [13.48259   ]\n",
      " [13.48259   ]\n",
      " [13.48259   ]\n",
      " [13.48259   ]\n",
      " [13.48259   ]\n",
      " [13.48259   ]\n",
      " [13.48259   ]\n",
      " [13.48259   ]\n",
      " [13.48259   ]\n",
      " [13.48259   ]\n",
      " [13.48259   ]\n",
      " [13.48259   ]]\n"
     ]
    }
   ],
   "source": [
    "print(best_costs)"
   ]
  },
  {
   "cell_type": "markdown",
   "metadata": {},
   "source": [
    "## Hyperparameter tuning using Bayesian Optimization"
   ]
  },
  {
   "cell_type": "code",
   "execution_count": 82,
   "metadata": {},
   "outputs": [],
   "source": [
    "import torch\n",
    "\n",
    "device = torch.device(\"cuda\" if torch.cuda.is_available() else \"cpu\")\n",
    "dtype = torch.double\n",
    "SMOKE_TEST = os.environ.get(\"SMOKE_TEST\")"
   ]
  },
  {
   "cell_type": "code",
   "execution_count": 83,
   "metadata": {},
   "outputs": [],
   "source": [
    "from botorch.models import SingleTaskGP\n",
    "from botorch.fit import fit_gpytorch_model\n",
    "from gpytorch.mlls import ExactMarginalLogLikelihood\n",
    "\n",
    "bounds = np.array(([0, 0, 0, 0, 0.5, 50], [1, 10, 10, 5, 1, 1000]), dtype=float)\n",
    "train_X = np.array([w, c1, c2, max_velocity, wdamp, nPop])\n",
    "for i in range(9):\n",
    "    train_X = np.vstack((train_X, np.random.uniform(0,1, (1, 6))*(bounds[1,:] - bounds[0, :])+bounds[0,:]))\n"
   ]
  },
  {
   "cell_type": "code",
   "execution_count": 84,
   "metadata": {},
   "outputs": [],
   "source": [
    "train_Y = np.zeros((10,1))\n",
    "for i in range(len(train_X)):\n",
    "    pop, glob = create_population(train_X[i, 5].astype(int), n_bersagli, Vec_tipo_armi, Mat_prob_cogliere_bersagli, Valori_bersagli)\n",
    "    for j in range(n_iter):\n",
    "        pop, glob= update_pop(pop, train_X[i, 0], train_X[i, 1], train_X[i, 2], -train_X[i, 3], train_X[i, 3], n_bersagli, glob, Vec_tipo_armi, Mat_prob_cogliere_bersagli, Valori_bersagli)\n",
    "        w = w * train_X[i, 4]\n",
    "    train_Y[i] = glob[1]"
   ]
  },
  {
   "cell_type": "code",
   "execution_count": 85,
   "metadata": {},
   "outputs": [
    {
     "name": "stdout",
     "output_type": "stream",
     "text": [
      "[[24.6024255 ]\n",
      " [11.1349239 ]\n",
      " [10.34524045]\n",
      " [15.95921527]\n",
      " [11.08071394]\n",
      " [10.34524045]\n",
      " [10.34524045]\n",
      " [11.84839324]\n",
      " [10.34524045]\n",
      " [19.24275369]]\n"
     ]
    }
   ],
   "source": [
    "# To be honest already found two configurations that yield optimal result by random search\n",
    "print(train_Y)"
   ]
  },
  {
   "cell_type": "code",
   "execution_count": 86,
   "metadata": {},
   "outputs": [],
   "source": [
    "# Transfer to tensors\n",
    "train_X = torch.from_numpy(train_X)\n",
    "train_Y = torch.from_numpy(train_Y)\n",
    "bounds = torch.from_numpy(bounds)"
   ]
  },
  {
   "cell_type": "code",
   "execution_count": 87,
   "metadata": {},
   "outputs": [
    {
     "data": {
      "text/plain": [
       "ExactMarginalLogLikelihood(\n",
       "  (likelihood): GaussianLikelihood(\n",
       "    (noise_covar): HomoskedasticNoise(\n",
       "      (noise_prior): GammaPrior()\n",
       "      (raw_noise_constraint): GreaterThan(1.000E-04)\n",
       "    )\n",
       "  )\n",
       "  (model): SingleTaskGP(\n",
       "    (likelihood): GaussianLikelihood(\n",
       "      (noise_covar): HomoskedasticNoise(\n",
       "        (noise_prior): GammaPrior()\n",
       "        (raw_noise_constraint): GreaterThan(1.000E-04)\n",
       "      )\n",
       "    )\n",
       "    (mean_module): ConstantMean()\n",
       "    (covar_module): ScaleKernel(\n",
       "      (base_kernel): MaternKernel(\n",
       "        (lengthscale_prior): GammaPrior()\n",
       "        (raw_lengthscale_constraint): Positive()\n",
       "        (distance_module): Distance()\n",
       "      )\n",
       "      (outputscale_prior): GammaPrior()\n",
       "      (raw_outputscale_constraint): Positive()\n",
       "    )\n",
       "  )\n",
       ")"
      ]
     },
     "execution_count": 87,
     "metadata": {},
     "output_type": "execute_result"
    }
   ],
   "source": [
    "# Fit the model\n",
    "\n",
    "gp = SingleTaskGP(train_X, train_Y)\n",
    "mll = ExactMarginalLogLikelihood(gp.likelihood, gp)\n",
    "fit_gpytorch_model(mll)"
   ]
  },
  {
   "cell_type": "code",
   "execution_count": 88,
   "metadata": {},
   "outputs": [
    {
     "name": "stdout",
     "output_type": "stream",
     "text": [
      "[[ 0.89907461  4.91477931  1.32884922  4.73550412  0.81503425 52.61220448]]\n",
      "[[  0.52137206   7.03418538   6.885684     4.56114833   0.86670172\n",
      "  487.94491719]]\n",
      "[[  0.31826436   8.73012247   1.46227198   0.5047725    0.82660464\n",
      "  691.65839278]]\n",
      "[[  0.69672909   0.99516434   6.58327649   0.8364035    0.53472722\n",
      "  476.64542366]]\n",
      "[[  0.01940238   1.6957667    4.46819877   0.95975929   0.64443417\n",
      "  166.5850054 ]]\n",
      "[[  0.73468836   1.81093238   3.68984716   2.42969908   0.61173535\n",
      "  172.5549995 ]]\n",
      "[[ 0.68347035  6.23632764  6.03919921  0.90254211  0.64762869 75.92201638]]\n",
      "[[  0.9871679    5.9144059    3.07946637   2.90953109   0.99438824\n",
      "  167.45984461]]\n",
      "[[  0.99090838   2.07006195   0.51816938   2.70131353   0.98285047\n",
      "  163.9874923 ]]\n",
      "[[  0.74540962   6.87247803   8.84821481   3.68375023   0.77797637\n",
      "  303.20433932]]\n",
      "[[  0.7378392    5.38809817   7.36023964   0.14260037   0.87800842\n",
      "  688.85625764]]\n",
      "[[  0.90032849   9.73670492   7.4761671    4.93924869   0.99127794\n",
      "  663.62859104]]\n",
      "[[  0.55332194   0.28025592   7.89384303   4.38441166   0.58473201\n",
      "  909.62769683]]\n",
      "[[  0.37476734   2.32210695   5.8764086    2.08993839   0.81327057\n",
      "  690.8839345 ]]\n",
      "[[  0.52984159   2.97116827   4.42505018   1.39942831   0.9178981\n",
      "  163.26948768]]\n",
      "[[  0.55171751   8.79156895   1.28677985   3.81603413   0.73881144\n",
      "  109.68856299]]\n",
      "[[  0.81570268   4.30238036   5.27851546   3.30255508   0.88086984\n",
      "  162.08592774]]\n",
      "[[  0.21652518   1.76268496   9.56629825   3.0899979    0.89099749\n",
      "  116.81489572]]\n",
      "[[  0.24424152   4.03139816   6.8973696    2.9570562    0.64341511\n",
      "  536.80012589]]\n",
      "[[  0.31528014   6.62898949   9.18689243   4.89414482   0.62626215\n",
      "  279.36253133]]\n",
      "[[  0.19891819   0.6570147    4.45263866   1.02327636   0.56635642\n",
      "  443.37036721]]\n",
      "[[  0.94522402   4.52532356   1.86926868   0.49380861   0.77180167\n",
      "  306.13366263]]\n",
      "[[  0.78913984   8.83161711   9.01900996   0.47489286   0.67314359\n",
      "  430.22824274]]\n",
      "[[  0.88035912   5.49003342   9.37174813   1.58110784   0.60641011\n",
      "  362.98003844]]\n",
      "[[  0.14994166   2.76807865   6.1857671    1.04373237   0.69715689\n",
      "  198.6143982 ]]\n",
      "[[  0.77107732   4.21824251   9.57766836   1.08553594   0.62192275\n",
      "  522.03545896]]\n",
      "[[  0.97107532   1.39906331   7.00026101   1.34094608   0.96970338\n",
      "  964.69542286]]\n",
      "[[  0.33628463   9.52079019   8.3528555    2.41352048   0.72556163\n",
      "  435.16336377]]\n",
      "[[  0.17544094   7.81646715   2.70242044   3.97323684   0.9067294\n",
      "  470.80473583]]\n",
      "[[  0.45437092   4.72602034   2.89484463   3.15716712   0.60031955\n",
      "  819.96341734]]\n"
     ]
    }
   ],
   "source": [
    "# Acquisition function and optimization\n",
    "from botorch.acquisition import UpperConfidenceBound\n",
    "from botorch.optim import optimize_acqf\n",
    "\n",
    "\n",
    "for i in range(30):\n",
    "    UCB = UpperConfidenceBound(gp, beta=0.1)\n",
    "    candidate_t, acq_value = optimize_acqf(\n",
    "    UCB, bounds=bounds, q=1, num_restarts=5, raw_samples=20,\n",
    ")\n",
    "    candidate_t = candidate_t.detach()\n",
    "    train_X = torch.vstack((train_X, candidate_t))\n",
    "    candidate = candidate_t.numpy()\n",
    "    print(candidate)\n",
    "    pop, glob = create_population(candidate[0][5].astype(int), n_bersagli, Vec_tipo_armi, Mat_prob_cogliere_bersagli, Valori_bersagli)\n",
    "    for j in range(n_iter):\n",
    "        pop, glob= update_pop(pop, candidate[0][0], candidate[0][1], candidate[0][2], -candidate[0][3], candidate[0][3], n_bersagli, glob, Vec_tipo_armi, Mat_prob_cogliere_bersagli, Valori_bersagli)\n",
    "        w = w * candidate[0][4]\n",
    "    train_Y = torch.vstack((train_Y, torch.tensor(glob[1])))\n",
    "\n",
    "    # re-fit the model\n",
    "    gp = SingleTaskGP(train_X, train_Y)\n",
    "    mll = ExactMarginalLogLikelihood(gp.likelihood, gp)\n",
    "    fit_gpytorch_model(mll)"
   ]
  },
  {
   "cell_type": "code",
   "execution_count": 131,
   "metadata": {},
   "outputs": [
    {
     "name": "stdout",
     "output_type": "stream",
     "text": [
      "tensor([[24.6024],\n",
      "        [11.1349],\n",
      "        [10.3452],\n",
      "        [15.9592],\n",
      "        [11.0807],\n",
      "        [10.3452],\n",
      "        [10.3452],\n",
      "        [11.8484],\n",
      "        [10.3452],\n",
      "        [19.2428],\n",
      "        [11.1349],\n",
      "        [11.1349],\n",
      "        [11.8484],\n",
      "        [11.0807],\n",
      "        [13.6792],\n",
      "        [11.8849],\n",
      "        [12.5416],\n",
      "        [11.0807],\n",
      "        [10.3452],\n",
      "        [10.3452],\n",
      "        [16.5379],\n",
      "        [11.1349],\n",
      "        [11.1349],\n",
      "        [10.3452],\n",
      "        [13.5394],\n",
      "        [10.3452],\n",
      "        [11.1349],\n",
      "        [11.1349],\n",
      "        [11.1349],\n",
      "        [11.1349],\n",
      "        [14.3825],\n",
      "        [21.2887],\n",
      "        [20.1834],\n",
      "        [10.3452],\n",
      "        [13.0689],\n",
      "        [11.8849],\n",
      "        [11.8849],\n",
      "        [11.0807],\n",
      "        [11.1349],\n",
      "        [10.3452]], dtype=torch.float64)\n"
     ]
    }
   ],
   "source": [
    "# Training seems to go on in BO manner\n",
    "print(train_Y)"
   ]
  },
  {
   "cell_type": "code",
   "execution_count": 182,
   "metadata": {},
   "outputs": [],
   "source": [
    "# Let's find an optimal candidate with least nPop\n",
    "optimals_idx = np.array([i for i in range(len(train_Y)) if np.isclose(float(train_Y[i]), 10.3452)])\n",
    "train_X_np = train_X.detach().numpy()\n",
    "values = np.array([train_X_np[i, 5] for i in optimals_idx])\n",
    "matrix = np.vstack((optimals_idx, values))\n",
    "matrix = matrix[:, matrix[1].argsort()]\n",
    "print(matrix)\n",
    "\n",
    "# Here I run some tests and figured \"25\" had a stroke of amazing luck so we go with 18\n",
    "# To be fair it can still fail but runs decently, could always increase nPop\n",
    "\n",
    "final_params = train_X_np[18]"
   ]
  },
  {
   "cell_type": "markdown",
   "metadata": {},
   "source": [
    "## Final loop with tuned params"
   ]
  },
  {
   "cell_type": "code",
   "execution_count": 184,
   "metadata": {},
   "outputs": [
    {
     "name": "stdout",
     "output_type": "stream",
     "text": [
      "15.859093252475155\n",
      "14.945203194217694\n",
      "14.945203194217694\n",
      "12.732656896669088\n",
      "12.27253097426361\n",
      "11.902603195224046\n",
      "11.13492389683587\n",
      "11.13492389683587\n",
      "11.13492389683587\n",
      "11.13492389683587\n",
      "11.13492389683587\n",
      "11.13492389683587\n",
      "11.13492389683587\n",
      "11.13492389683587\n",
      "10.345240447003052\n",
      "10.345240447003052\n",
      "10.345240447003052\n",
      "10.345240447003052\n",
      "10.345240447003052\n",
      "10.345240447003052\n",
      "10.345240447003052\n",
      "10.345240447003052\n",
      "10.345240447003052\n",
      "10.345240447003052\n",
      "10.345240447003052\n",
      "10.345240447003052\n",
      "10.345240447003052\n",
      "10.345240447003052\n",
      "10.345240447003052\n",
      "10.345240447003052\n",
      "10.345240447003052\n",
      "10.345240447003052\n",
      "10.345240447003052\n",
      "10.345240447003052\n",
      "10.345240447003052\n",
      "10.345240447003052\n",
      "10.345240447003052\n",
      "10.345240447003052\n",
      "10.345240447003052\n",
      "10.345240447003052\n",
      "10.345240447003052\n",
      "10.345240447003052\n",
      "10.345240447003052\n",
      "10.345240447003052\n",
      "10.345240447003052\n",
      "10.345240447003052\n",
      "10.345240447003052\n",
      "10.345240447003052\n",
      "10.345240447003052\n",
      "10.345240447003052\n",
      "10.345240447003052\n",
      "10.345240447003052\n",
      "10.345240447003052\n",
      "10.345240447003052\n",
      "10.345240447003052\n",
      "10.345240447003052\n",
      "10.345240447003052\n",
      "10.345240447003052\n",
      "10.345240447003052\n",
      "10.345240447003052\n",
      "10.345240447003052\n",
      "10.345240447003052\n",
      "10.345240447003052\n",
      "10.345240447003052\n",
      "10.345240447003052\n",
      "10.345240447003052\n",
      "10.345240447003052\n",
      "10.345240447003052\n",
      "10.345240447003052\n",
      "10.345240447003052\n",
      "10.345240447003052\n",
      "10.345240447003052\n",
      "10.345240447003052\n",
      "10.345240447003052\n",
      "10.345240447003052\n",
      "10.345240447003052\n",
      "10.345240447003052\n",
      "10.345240447003052\n",
      "10.345240447003052\n",
      "10.345240447003052\n",
      "10.345240447003052\n",
      "10.345240447003052\n",
      "10.345240447003052\n",
      "10.345240447003052\n",
      "10.345240447003052\n",
      "10.345240447003052\n",
      "10.345240447003052\n",
      "10.345240447003052\n",
      "10.345240447003052\n",
      "10.345240447003052\n",
      "10.345240447003052\n",
      "10.345240447003052\n",
      "10.345240447003052\n",
      "10.345240447003052\n",
      "10.345240447003052\n",
      "10.345240447003052\n",
      "10.345240447003052\n",
      "10.345240447003052\n",
      "10.345240447003052\n",
      "10.345240447003052\n",
      "10.345240447003052\n"
     ]
    }
   ],
   "source": [
    "population_final, global_best_final = create_population(int(final_params[5]+100), n_bersagli, Vec_tipo_armi, Mat_prob_cogliere_bersagli, Valori_bersagli)\n",
    "best_costs_final = np.zeros((n_iter, 1))\n",
    "print(global_best_final[1])\n",
    "for j in range(n_iter):\n",
    "        population_final, global_best_final= update_pop(population_final, final_params[0], final_params[1], final_params[2], -final_params[3], final_params[3], n_bersagli, global_best_final, Vec_tipo_armi, Mat_prob_cogliere_bersagli, Valori_bersagli)\n",
    "        best_costs_final[j, 0] = global_best_final[1]\n",
    "        print(global_best_final[1])\n",
    "        w = w * final_params[4]"
   ]
  }
 ],
 "metadata": {
  "kernelspec": {
   "display_name": "Python 3 (ipykernel)",
   "language": "python",
   "name": "python3"
  },
  "language_info": {
   "codemirror_mode": {
    "name": "ipython",
    "version": 3
   },
   "file_extension": ".py",
   "mimetype": "text/x-python",
   "name": "python",
   "nbconvert_exporter": "python",
   "pygments_lexer": "ipython3",
   "version": "3.8.10"
  }
 },
 "nbformat": 4,
 "nbformat_minor": 4
}
