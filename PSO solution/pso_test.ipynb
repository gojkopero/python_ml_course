{
 "cells": [
  {
   "cell_type": "markdown",
   "id": "17c30477",
   "metadata": {},
   "source": [
    "## Initialize"
   ]
  },
  {
   "cell_type": "code",
   "execution_count": 1,
   "id": "70965e64",
   "metadata": {},
   "outputs": [],
   "source": [
    "import numpy as np"
   ]
  },
  {
   "cell_type": "markdown",
   "id": "88a3d519",
   "metadata": {},
   "source": [
    "## Create particle class"
   ]
  },
  {
   "cell_type": "code",
   "execution_count": 2,
   "id": "231405e3",
   "metadata": {},
   "outputs": [],
   "source": [
    "class Particle:\n",
    "    def __init__(self):\n",
    "        self.position = []\n",
    "        self.velocity = []\n",
    "        self.value = []\n",
    "        self.best_position = []\n",
    "        self.best_value = []\n",
    "    "
   ]
  },
  {
   "cell_type": "markdown",
   "id": "41cd985e",
   "metadata": {},
   "source": [
    "## Create cost function"
   ]
  },
  {
   "cell_type": "code",
   "execution_count": 3,
   "id": "1a98d883",
   "metadata": {},
   "outputs": [],
   "source": [
    "def sphere(x):\n",
    "    z = np.sum(np.square(x))\n",
    "    return -z"
   ]
  },
  {
   "cell_type": "markdown",
   "id": "0cab5ca0",
   "metadata": {},
   "source": [
    "## Create population"
   ]
  },
  {
   "cell_type": "code",
   "execution_count": 12,
   "id": "b91add37",
   "metadata": {},
   "outputs": [],
   "source": [
    "def create_population(nPop, n_bersagli, W_tot):\n",
    "    population = [Particle() for i in range(nPop)]\n",
    "    global_best = [[], [-np.Inf]]\n",
    "    for i in range(nPop):\n",
    "        population[i].position = np.random.uniform(1, n_bersagli+1, (W_tot)).astype(int)\n",
    "        population[i].velocity = np.zeros(W_tot)\n",
    "        population[i].value = sphere(population[i].position)\n",
    "        \n",
    "        # Update personal\n",
    "        population[i].best_position = population[i].position\n",
    "        population[i].best_value = population[i].value\n",
    "        \n",
    "        # Update global\n",
    "        if population[i].best_value < global_best[1]:\n",
    "            global_best = [population[i].best_position, population[i].best_value]\n",
    "    \n",
    "    return population, global_best"
   ]
  },
  {
   "cell_type": "code",
   "execution_count": 8,
   "id": "749e8dd6",
   "metadata": {},
   "outputs": [],
   "source": [
    "# Array for best over iterations\n",
    "best_costs = np.zeros((100, 1))"
   ]
  },
  {
   "cell_type": "code",
   "execution_count": 43,
   "id": "a19fb007",
   "metadata": {},
   "outputs": [],
   "source": [
    "def update_pop(population, w, c1, c2, min_velocity, max_velocity, n_bersagli, global_best):\n",
    "    for i in range(len(population)):\n",
    "        \n",
    "        # Update velocity\n",
    "        population[i].velocity = w*population[i].velocity + c1*np.random.uniform()*(population[i].best_position - population[i].position) + c2*np.random.uniform()*(global_best[1] - population[i].position)\n",
    "                \n",
    "        # Velocity limits\n",
    "#         population[i].velocity = max(population[i].velocity, min_velocity)\n",
    "#         population[i].velocity = min(population[i].velocity, max_velocity)\n",
    "        \n",
    "        # Update position\n",
    "        population[i].position = population[i].position + population[i].velocity\n",
    "        \n",
    "        # Bounds\n",
    "        population[i].position = np.clip(population[i].position, 1, n_bersagli)\n",
    "        \n",
    "        population[i].position = np.rint(population[i].position)\n",
    "        # Evaluate\n",
    "        population[i].value = sphere(population[i].position)\n",
    "        \n",
    "        # Update personal best\n",
    "        if population[i].value < population[i].best_value:\n",
    "            population[i].best_position = population[i].position\n",
    "            population[i].best_value = population[i].value\n",
    "            \n",
    "        # Update global best\n",
    "        if population[i].value < global_best[1]:\n",
    "            global_best = [population[i].best_position, population[i].best_value]\n",
    "            \n",
    "        # best of iter\n",
    "        best_cost = global_best[1]\n",
    "        \n",
    "    return population, global_best, best_cost"
   ]
  },
  {
   "cell_type": "code",
   "execution_count": 46,
   "id": "f2693636",
   "metadata": {},
   "outputs": [],
   "source": [
    "w = 1\n",
    "c1 = 0.1\n",
    "c2 = 0.1\n",
    "min_velocity = 0\n",
    "max_velocity = 1000\n",
    "n_bersagli = 20\n",
    "W_tot = 20"
   ]
  },
  {
   "cell_type": "code",
   "execution_count": 47,
   "id": "8952a4c3",
   "metadata": {},
   "outputs": [],
   "source": [
    "population, global_best = create_population(50, n_bersagli, W_tot)"
   ]
  },
  {
   "cell_type": "code",
   "execution_count": 48,
   "id": "4f159ab1",
   "metadata": {},
   "outputs": [],
   "source": [
    "for i in range(100):\n",
    "    population, global_best, best_costs[i, 0] = update_pop(population, w, c1, c2, min_velocity, max_velocity, n_bersagli, global_best)"
   ]
  },
  {
   "cell_type": "code",
   "execution_count": 49,
   "id": "7f099900",
   "metadata": {},
   "outputs": [
    {
     "name": "stdout",
     "output_type": "stream",
     "text": [
      "[[-54.]\n",
      " [-20.]\n",
      " [-20.]\n",
      " [-20.]\n",
      " [-20.]\n",
      " [-20.]\n",
      " [-20.]\n",
      " [-20.]\n",
      " [-20.]\n",
      " [-20.]\n",
      " [-20.]\n",
      " [-20.]\n",
      " [-20.]\n",
      " [-20.]\n",
      " [-20.]\n",
      " [-20.]\n",
      " [-20.]\n",
      " [-20.]\n",
      " [-20.]\n",
      " [-20.]\n",
      " [-20.]\n",
      " [-20.]\n",
      " [-20.]\n",
      " [-20.]\n",
      " [-20.]\n",
      " [-20.]\n",
      " [-20.]\n",
      " [-20.]\n",
      " [-20.]\n",
      " [-20.]\n",
      " [-20.]\n",
      " [-20.]\n",
      " [-20.]\n",
      " [-20.]\n",
      " [-20.]\n",
      " [-20.]\n",
      " [-20.]\n",
      " [-20.]\n",
      " [-20.]\n",
      " [-20.]\n",
      " [-20.]\n",
      " [-20.]\n",
      " [-20.]\n",
      " [-20.]\n",
      " [-20.]\n",
      " [-20.]\n",
      " [-20.]\n",
      " [-20.]\n",
      " [-20.]\n",
      " [-20.]\n",
      " [-20.]\n",
      " [-20.]\n",
      " [-20.]\n",
      " [-20.]\n",
      " [-20.]\n",
      " [-20.]\n",
      " [-20.]\n",
      " [-20.]\n",
      " [-20.]\n",
      " [-20.]\n",
      " [-20.]\n",
      " [-20.]\n",
      " [-20.]\n",
      " [-20.]\n",
      " [-20.]\n",
      " [-20.]\n",
      " [-20.]\n",
      " [-20.]\n",
      " [-20.]\n",
      " [-20.]\n",
      " [-20.]\n",
      " [-20.]\n",
      " [-20.]\n",
      " [-20.]\n",
      " [-20.]\n",
      " [-20.]\n",
      " [-20.]\n",
      " [-20.]\n",
      " [-20.]\n",
      " [-20.]\n",
      " [-20.]\n",
      " [-20.]\n",
      " [-20.]\n",
      " [-20.]\n",
      " [-20.]\n",
      " [-20.]\n",
      " [-20.]\n",
      " [-20.]\n",
      " [-20.]\n",
      " [-20.]\n",
      " [-20.]\n",
      " [-20.]\n",
      " [-20.]\n",
      " [-20.]\n",
      " [-20.]\n",
      " [-20.]\n",
      " [-20.]\n",
      " [-20.]\n",
      " [-20.]\n",
      " [-20.]]\n"
     ]
    }
   ],
   "source": [
    "print(best_costs)"
   ]
  },
  {
   "cell_type": "code",
   "execution_count": null,
   "id": "19e9e861",
   "metadata": {},
   "outputs": [],
   "source": []
  }
 ],
 "metadata": {
  "kernelspec": {
   "display_name": "Python 3 (ipykernel)",
   "language": "python",
   "name": "python3"
  },
  "language_info": {
   "codemirror_mode": {
    "name": "ipython",
    "version": 3
   },
   "file_extension": ".py",
   "mimetype": "text/x-python",
   "name": "python",
   "nbconvert_exporter": "python",
   "pygments_lexer": "ipython3",
   "version": "3.7.13"
  }
 },
 "nbformat": 4,
 "nbformat_minor": 5
}
